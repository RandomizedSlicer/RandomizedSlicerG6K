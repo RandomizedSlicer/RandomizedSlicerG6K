{
 "cells": [
  {
   "cell_type": "code",
   "execution_count": 4,
   "metadata": {},
   "outputs": [],
   "source": [
    "# load all relevant packages and code\n",
    "\n",
    "# load('New_Falcon_stuff.sage')\n",
    "load('CBD_stuff.sage')\n",
    "\n",
    "import gc\n",
    "\n",
    "from Entropy_stuff import *\n",
    "from Multinomial import *\n",
    "from Largelog import *\n",
    "from Root_sum import approx_sum_of_roots\n",
    "from Compact_Dictionary import *"
   ]
  },
  {
   "cell_type": "code",
   "execution_count": 5,
   "metadata": {},
   "outputs": [],
   "source": [
    "# Probability distributions are handled using dictionaries p, where the probability of sampling i is defined via\n",
    "# p[i] (if i can be sampled)\n",
    "\n",
    "B1_pdist={\n",
    "    -1:1/4,\n",
    "     0:2/4,\n",
    "     1:1/4\n",
    "}"
   ]
  },
  {
   "cell_type": "code",
   "execution_count": 6,
   "metadata": {},
   "outputs": [
    {
     "name": "stdout",
     "output_type": "stream",
     "text": [
      "Distribution with sampling probabilities:\n",
      "         0 : 1/2\n",
      "     -1, 1 : 1/4\n",
      "\n",
      "Entropy of distribution is 1.0397207708399179\n",
      "\n",
      "\n",
      "Distribution with sampling probabilities:\n",
      "         0 : 1/2\n",
      "     -1, 1 : 1/4\n",
      "\n",
      "Entropy of distribution is 1.5\n",
      "\n",
      "\n"
     ]
    }
   ],
   "source": [
    "# The distribution class takes as input a probability distribution and optional value base, which denotes the\n",
    "# entropy base. If unchanged, the latter is set to 2.\n",
    "\n",
    "B1e=distribution(B1_pdist, base=e)\n",
    "print(B1e)\n",
    "print()\n",
    "print()\n",
    "\n",
    "B1=distribution(B1_pdist)\n",
    "print(B1)\n",
    "print()\n",
    "print()\n",
    "\n",
    "# When a distribution is defined via PMF instead of a dictionary of probabilities, we use\n",
    "\n",
    "# Falcon512=func_distribution('Falcon512', #Name of distribution\n",
    "#                             distribution_falcon, #PMF\n",
    "#                             [falcon512_sigma], #parameter set\n",
    "#                             ['sigma'] #parameter names\n",
    "#                            )\n",
    "# print(Falcon512)"
   ]
  },
  {
   "cell_type": "code",
   "execution_count": 8,
   "metadata": {},
   "outputs": [
    {
     "data": {
      "text/plain": [
       "[[0, [0, 0, 0, 0, 0]],\n",
       " [1, [0, 0, 0, 0, 1]],\n",
       " [2, [0, 0, 0, 1, 0]],\n",
       " [3, [0, 0, 1, 0, 0]],\n",
       " [4, [0, 1, 0, 0, 0]],\n",
       " [5, [1, 0, 0, 0, 0]]]"
      ]
     },
     "execution_count": 8,
     "metadata": {},
     "output_type": "execute_result"
    }
   ],
   "source": [
    "B1.GetKeys(0,5,5)"
   ]
  },
  {
   "cell_type": "code",
   "execution_count": 4,
   "metadata": {},
   "outputs": [
    {
     "data": {
      "text/plain": [
       "Distribution with sampling probabilities:\n",
       "         0 : 3/8\n",
       "     -1, 1 : 1/4\n",
       "     -2, 2 : 1/16\n",
       "\n",
       "Entropy of distribution is 2.0306390622295667"
      ]
     },
     "execution_count": 4,
     "metadata": {},
     "output_type": "execute_result"
    }
   ],
   "source": [
    "# If the input probability distribution is not normalized, the distribution class automatically normalizes it\n",
    "\n",
    "B2_pdist={\n",
    "    -2:1,\n",
    "    -1:4,\n",
    "     0:6,\n",
    "     1:4,\n",
    "     2:1,\n",
    "}\n",
    "\n",
    "B2=distribution(B2_pdist)\n",
    "B2"
   ]
  },
  {
   "cell_type": "code",
   "execution_count": 5,
   "metadata": {},
   "outputs": [
    {
     "data": {
      "text/plain": [
       "Distribution with sampling probabilities:\n",
       "         0 : 46189/262144\n",
       "     -1, 1 : 20995/131072\n",
       "     -2, 2 : 62985/524288\n",
       "     -3, 3 : 4845/65536\n",
       "     -4, 4 : 4845/131072\n",
       "     -5, 5 : 969/65536\n",
       "     -6, 6 : 4845/1048576\n",
       "     -7, 7 : 285/262144\n",
       "     -8, 8 : 95/524288\n",
       "     -9, 9 : 5/262144\n",
       "   -10, 10 : 1/1048576\n",
       "\n",
       "Entropy of distribution is 3.2077226571333863"
      ]
     },
     "execution_count": 5,
     "metadata": {},
     "output_type": "execute_result"
    }
   ],
   "source": [
    "# This program comes with 5 predefined distributions: B1, B2, B3, Falcon512 (~D(4.06)) and Falcon1024 (~D(2.87)).\n",
    "# Additionally, other centered binomial distributions with parameter eta can be created via CBD(eta)\n",
    "\n",
    "B10=CBD(10)\n",
    "B10"
   ]
  },
  {
   "cell_type": "code",
   "execution_count": 6,
   "metadata": {},
   "outputs": [
    {
     "name": "stdout",
     "output_type": "stream",
     "text": [
      "The Distribution of B(2) is defined through {-2: 1/16, -1: 1/4, 0: 3/8, 1: 1/4, 2: 1/16}\n",
      "The Entropy of B(2) is 2.0306390622295667\n",
      "The Entropy of Falcon512 is 4.0661440663728765\n"
     ]
    }
   ],
   "source": [
    "# The normalized probability distribution of a distribution class object can be called with self.dist or self.d .\n",
    "# The entropy is returned with self.entropy .\n",
    "\n",
    "print(\"The Distribution of B(2) is defined through \" + str(B2.dist)) # This object does not exist for func_distribution objects\n",
    "print(\"The Entropy of B(2) is \" + str(B2.entropy))\n",
    "print(\"The Entropy of Falcon512 is \" + str(Falcon512.entropy))"
   ]
  },
  {
   "cell_type": "code",
   "execution_count": 7,
   "metadata": {},
   "outputs": [
    {
     "name": "stdout",
     "output_type": "stream",
     "text": [
      "The non-zero probabilities in B(2) are [3/8, 1/4, 1/16]\n",
      "Their absolute logs are [1.4150374992788437, 2.0, 4.0]\n",
      "The amount of vectors with a certain probability are [1, 2, 2]\n",
      "Specifically, the coordinates with a given probability are {3/8: [0], 1/4: [-1, 1], 1/16: [-2, 2]}\n"
     ]
    }
   ],
   "source": [
    "# To see every unique probability value that exists in the distribution, call self.p (or self.log_p for\n",
    "# their absolute log-values).\n",
    "\n",
    "print(\"The non-zero probabilities in B(2) are \" + str(B2.p)) # This object does not exist for func_distribution objects\n",
    "print(\"Their absolute logs are \" + str(B2.log_p)) # This object does not exist for func_distribution objects\n",
    "\n",
    "# To see how often these occur, call self.m; the latter is ordered such that self.p[i] appears self.m[i] many times:\n",
    "\n",
    "print(\"The amount of vectors with a certain probability are \" + str(B2.m)) # This object does not exist for func_distribution objects\n",
    "\n",
    "# To see all possible sampling values, sorted by their probability of sampling, call self.label\n",
    "\n",
    "print(\"Specifically, the coordinates with a given probability are \" + str(B2.label)) # This object does not exist for func_distribution objects"
   ]
  },
  {
   "cell_type": "code",
   "execution_count": 8,
   "metadata": {},
   "outputs": [
    {
     "name": "stdout",
     "output_type": "stream",
     "text": [
      "The eta value of B(2) is 2\n",
      "The sampling space of B(2) is [-2, -1, 0, 1, 2]\n"
     ]
    }
   ],
   "source": [
    "# The size of range of possible probabilities is denoted with eta. Since we generally deal\n",
    "# with distributions that are centered around 0, this usually coincides with the sampling range [-eta , ... , eta].\n",
    "# The range can be called with self.range\n",
    "\n",
    "print(\"The eta value of B(2) is \" + str(B2.eta)) # This object does not exist for func_distribution objects\n",
    "print(\"The sampling space of B(2) is \" + str(B2.range)) # This object does not exist for func_distribution objects"
   ]
  },
  {
   "cell_type": "code",
   "execution_count": 9,
   "metadata": {},
   "outputs": [
    {
     "name": "stdout",
     "output_type": "stream",
     "text": [
      "The probability to sample 2 in B(2) is 1/16\n",
      "The probability to sample 'Hello World' in B(2) is 0\n",
      "The probability to sample 2 in Falcon512 is 0.0871452818766299\n",
      "\n",
      "Sampling [-2, 1, 0, -1] in B(2)^4 has probability 3/2048\n",
      "Sampling [-2, 1, 0, -1] in Falcon512^4 has probability 7.819078876675078e-05\n",
      "\n",
      "Sampling a vector with 1 0, 2 +-1 and 1 +-2 (w/ fixed order) in B(2) has probability 3/2048\n",
      "\n",
      "Sampling a vector with 1 0 and 1 +-101 (w/ fixed order) in Falcon512 has probability 1.4103731166502353e-137\n",
      "\n",
      "Sampling a vector with 1 0 and 2 +-1 (w/ fixed order) in B(2) has probability 0.0234375 (or 3/128)\n"
     ]
    }
   ],
   "source": [
    "# To find the probability of sampling a certain i, call self.prob(i). Can also be called for elements not in\n",
    "# the sampling range.\n",
    "\n",
    "print(\"The probability to sample 2 in B(2) is \" + str(B2.prob(2)))\n",
    "print(\"The probability to sample 'Hello World' in B(2) is \" + str(B2.prob(\"Hello World\")))\n",
    "print(\"The probability to sample 2 in Falcon512 is \" + str(Falcon512.prob(2))) # func_distribution objects are\n",
    "# not capable of finding the probabilities of events that don't lie in the sampling space.\n",
    "print()\n",
    "\n",
    "# To find the probability of sampling a certain vector v, call self.vec_prob(v)\n",
    "\n",
    "print(\"Sampling [-2, 1, 0, -1] in B(2)^4 has probability \" + str(B2.vec_prob([-2, 1, 0, -1])))\n",
    "print(\"Sampling [-2, 1, 0, -1] in Falcon512^4 has probability \" + str(Falcon512.vec_prob([-2, 1, 0, -1])))\n",
    "print()\n",
    "\n",
    "\n",
    "# A more compact way of representing a vector (and its unsigned permutations) is by counting\n",
    "# how often a certain position/ probability occurs. For example, [-2, 1, 0, -1] can be represented\n",
    "# by counting every 0, every +1, -1 and every +2, -2 and putting these weights in the list l = [1, 2, 1]\n",
    "# to find the probability of a vector with only stating its weights can be done with self.compact_vec_prob(l)\n",
    "\n",
    "print(\"Sampling a vector with 1 0, 2 +-1 and 1 +-2 (w/ fixed order) in B(2) has probability \" + str(B2.compact_vec_prob([1, 2, 1])))\n",
    "print()\n",
    "\n",
    "# for func_distribution objects, the vector can be of any length\n",
    "\n",
    "print(\"Sampling a vector with 1 0 and 1 +-101 (w/ fixed order) in Falcon512 has probability \" + str(Falcon512.compact_vec_prob([1] + 100*[0] + [1])))\n",
    "print()\n",
    "\n",
    "\n",
    "# each probability function has optional input f, which, if set to true, converts the output to float:\n",
    "\n",
    "print(\"Sampling a vector with 1 0 and 2 +-1 (w/ fixed order) in B(2) has probability \" + str(B2.compact_vec_prob([1, 2], f = True)) + \" (or \" + str(B2.compact_vec_prob([1, 2], f = False)) + \")\")"
   ]
  },
  {
   "cell_type": "code",
   "execution_count": 10,
   "metadata": {},
   "outputs": [
    {
     "name": "stdout",
     "output_type": "stream",
     "text": [
      "The compact dictionary of B(2)^3 consists of a List with all 10 different weight distributions\n",
      "\n",
      "One partial compact dictionary of Falcon512^3 consists of a List with 94 different weight distributions, each having probability at least 2^(-H(.)n-1), total probability is 0.776\n",
      "\n",
      "Another partial compact dictionary of Falcon512^3 consists of a List with 58 different weight distributions, each having probability at least 2^(-H(.)n), total probability is 0.602\n",
      "\n",
      "Another partial compact dictionary of Falcon512^3 consists of a List with 29 different weight distributions, each having probability at least 2^(-H(.)n+1), total probability is 0.350\n"
     ]
    }
   ],
   "source": [
    "# The calculation of (expected) runtimes requires the ability to build compact dictionaries.\n",
    "# To create a compact dictionary for dimension n, call self.comp_dic(n):\n",
    "\n",
    "print(\"The compact dictionary of B(2)^3 consists of a \" + str(B2.comp_dic(3))) # Impossible for func_distribution objects,\n",
    "# as compact dictionaries are infinitely large\n",
    "print()\n",
    "# Note that these dictionaries are of size O(n^eta), which can be very large for wide distributions\n",
    "# (like D(4.06) or D(2.87)). To combat this, we can create partial compact dictionaries that only contain\n",
    "# vectors above a certain probability threshold, say 2^(-H(.)n-offset) for entropy H(.) and some constant offset.\n",
    "# To create such an partial compact dictionary, call self.par_comp_dic(n, offset):\n",
    "\n",
    "print(\"One partial compact dictionary of Falcon512^3 consists of a \" + str(Falcon512.par_comp_dic(3,offset=1)))\n",
    "print()\n",
    "print(\"Another partial compact dictionary of Falcon512^3 consists of a \" + str(Falcon512.par_comp_dic(3,offset=0)))\n",
    "print()\n",
    "print(\"Another partial compact dictionary of Falcon512^3 consists of a \" + str(Falcon512.par_comp_dic(3,offset=-1)))\n",
    "\n",
    "# If a partial compact dictionary has been calculated previously for parameters (n, offset) and the function is\n",
    "# called again for (n, offset') where offset' < offset, the former list can be reused to calculate the compact dictionary faster. \n",
    "# If offset' > offset, we have to restart the whole computation process. We can not use the already existing partial\n",
    "# compact dictionary to make this process faster."
   ]
  },
  {
   "cell_type": "code",
   "execution_count": 11,
   "metadata": {},
   "outputs": [
    {
     "name": "stdout",
     "output_type": "stream",
     "text": [
      "We have created the following compact dictionaries for B(2): {3: List with all 10 different weight distributions}\n",
      "We have created the following compact dictionaries for D(4.06): {3: List with 94 different weight distributions, each having probability at least 2^(-H(.)n-1), total probability is 0.776}\n",
      "We have created the following compact dictionary for D(4.06)^3: List with 94 different weight distributions, each having probability at least 2^(-H(.)n-1), total probability is 0.776\n",
      "We have created the following compact dictionary for D(4.06)^(2^200): List with 0 different weight distributions, each having probability at least 2^(-H(.)n+inf), total probability is 0.000\n"
     ]
    }
   ],
   "source": [
    "# distribution class objects contain a pointer to all their peviously created compact dictionaries. These\n",
    "# pointers can be found in the dictionary self.comp_dics:\n",
    "\n",
    "print(\"We have created the following compact dictionaries for B(2): \" + str(B2.comp_dics))\n",
    "print(\"We have created the following compact dictionaries for D(4.06): \" + str(Falcon512.comp_dics))\n",
    "\n",
    "# To call a specific (partial) compact dictionary for dimension n, call self.comp_dic_list(n):\n",
    "\n",
    "print(\"We have created the following compact dictionary for D(4.06)^3: \" + str(Falcon512.comp_dic_list(3)))\n",
    "\n",
    "# If said compact dictionary has not yet been computed, this returns an empty compact dictionary instead:\n",
    "\n",
    "print(\"We have created the following compact dictionary for D(4.06)^(2^200): \" + str(Falcon512.comp_dic_list(2**200)))"
   ]
  },
  {
   "cell_type": "code",
   "execution_count": 12,
   "metadata": {},
   "outputs": [
    {
     "name": "stdout",
     "output_type": "stream",
     "text": [
      "The compact dictionary for B(2)^4 looks like this: [[[4, 0, 0], 81/4096, 1, 0], [[3, 1, 0], 27/2048, 8, 1], [[2, 2, 0], 9/1024, 24, 9], [[1, 3, 0], 3/512, 32, 33], [[0, 4, 0], 1/256, 16, 65]]\n",
      "\n",
      "There are a total of 24 vectors with weight distribution [2, 2, 0]. Their sampling probability is 9/1024 (each). There are 9 vectors that are at least as likely as these vectors.\n"
     ]
    }
   ],
   "source": [
    "# Compact dictionaries are their own class. To access the actual dictionary, call self_cd.dic\n",
    "\n",
    "B2.par_comp_dic(4)\n",
    "ex_cd=B2.comp_dic_list(4)\n",
    "ex_fcd=Falcon512.comp_dic_list(3)\n",
    "print(\"The compact dictionary for B(2)^4 looks like this: \" + str(ex_cd.dic))\n",
    "print()\n",
    "\n",
    "\n",
    "\n",
    "# every item in self_cd.dic is a list that contains 4 items: the actual weight distribution, the sampling distribution\n",
    "# for a vector with said distribution, the amount of vectors that have this unsigned weight distribution and the \n",
    "# amount of vectors from previous (i.e. more likely) entries.\n",
    "\n",
    "print(\"There are a total of \" + str(ex_cd.dic[2][2]) + \" vectors with weight distribution \"\n",
    "      + str(ex_cd.dic[2][0]) + \". Their sampling probability is \"+ str(ex_cd.dic[2][1]) + \n",
    "      \" (each). There are \" + str(ex_cd.dic[2][3]) + \" vectors that are at least as likely as these vectors.\")\n",
    "\n"
   ]
  },
  {
   "cell_type": "code",
   "execution_count": 13,
   "metadata": {},
   "outputs": [
    {
     "name": "stdout",
     "output_type": "stream",
     "text": [
      "there are 81 vectors represented through the partial compact dictionary of B(2)^4. As a power of 2, that is 2^6.339850002884625.\n",
      "there are 2553 vectors represented through the partial compact dictionary of Falcon512^3. As a power of 2, that is 2^11.31797782240712.\n",
      "\n",
      "The probability of sampling an element from the partial compact dictionary of B(2)^4 is 2401/4096.\n",
      "The probability of sampling an element from the partial compact dictionary of Falcon512^3 is 0.7764382534912986.\n"
     ]
    }
   ],
   "source": [
    "# To retreive the amount of vectors that are represented with the stored partial dictionary, call self_cd.count\n",
    "# (or logcount() if you need the log of count)\n",
    "\n",
    "print(\"there are \" + str(ex_cd.count) + \" vectors represented through the partial compact dictionary of B(2)^4. \"\n",
    "      \"As a power of 2, that is 2^\" + str(ex_cd.logcount()) + \".\")\n",
    "print(\"there are \" + str(ex_fcd.count) + \" vectors represented through the partial compact dictionary of Falcon512^3. \"\n",
    "      \"As a power of 2, that is 2^\" + str(ex_fcd.logcount()) + \".\")\n",
    "print()\n",
    "\n",
    "# The cumulative sampling probability of all these vectors can be returned with self_cd.p\n",
    "\n",
    "print(\"The probability of sampling an element from the partial compact dictionary of B(2)^4 is \" + str(ex_cd.p) + \".\")\n",
    "print(\"The probability of sampling an element from the partial compact dictionary of Falcon512^3 is \" + str(ex_fcd.p) + \".\")"
   ]
  },
  {
   "cell_type": "code",
   "execution_count": 14,
   "metadata": {},
   "outputs": [
    {
     "name": "stdout",
     "output_type": "stream",
     "text": [
      "Every element in the partial compact dictionary of B(2)^4 has sampling probability at least 2^(-H(B(2))*3 -0).\n",
      "Every element in the partial compact dictionary of Falcon512^3 has sampling probability at least 2^(-H(Falcon512)*4 -1).\n",
      "\n",
      "Elements from the empty compact dictionary have sampling probability 2^(-H(chi)*n +inf).\n",
      "Elements from the non-partial, compact dictionary of B(2)^3 have sampling probability at least 2^(-H(B(2))*3 -6.9080828133112995).\n"
     ]
    }
   ],
   "source": [
    "# The value for offset from function call self.par_comp_dic(n, offset) is stored in self_cd.offset\n",
    "\n",
    "print(\"Every element in the partial compact dictionary of B(2)^4 has sampling probability at least 2^(-H(B(2))*3 -\"\n",
    "      +  str(ex_cd.offset) + \").\") \n",
    "print(\"Every element in the partial compact dictionary of Falcon512^3 has sampling probability at least 2^(-H(Falcon512)*4 -\"\n",
    "      +  str(ex_fcd.offset) + \").\") \n",
    "print()\n",
    "\n",
    "# The empty compact dictionary has value c set to -inf. Compact dictionaries created with calling self.comp_dic(n)\n",
    "# have their value of c set to -(H(.)-max(self.log_p))n+1\n",
    "\n",
    "print(\"Elements from the empty compact dictionary have sampling probability 2^(-H(chi)*n +\" + str(-empty_comp_dic.offset) + \").\")\n",
    "print(\"Elements from the non-partial, compact dictionary of B(2)^3 have sampling probability at least 2^(-H(B(2))*3 -\"\n",
    "       + str(B2.comp_dic_list(3).offset) + \").\")"
   ]
  },
  {
   "cell_type": "code",
   "execution_count": 15,
   "metadata": {},
   "outputs": [
    {
     "name": "stdout",
     "output_type": "stream",
     "text": [
      "n epsilon runtime Eclassic Equantum\n",
      "1 0.875000 1.5849625007211563 1.0 0.21607124505355713\n",
      "2 0.765625 3.1699250014423126 2.4429434958487284 0.599744272000731\n",
      "3 0.669922 4.754887502163469 4.057314877782703 1.0849045981735483\n",
      "\n",
      "n epsilon runtime Eclassic Equantum\n",
      "4 0.588176 14.348244039977779 13.670030612555315 5.5347728157215705\n",
      "5 0.587408 18.315481285939416 17.607185058843832 7.453055979627621\n",
      "6 0.575557 22.23049927049313 21.519144186108477 9.332775934932352\n"
     ]
    }
   ],
   "source": [
    "# To create csv-style tables containing raw data for n in range [low_n, high_n], call self.raw_data():\n",
    "\n",
    "B2.raw_data(1,3)\n",
    "print()\n",
    "Falcon512.raw_data(4,6)\n",
    "\n",
    "# the column heads of the csv table are\n",
    "# n: vector dimension n\n",
    "# p: probability that a randomly sampled vector has sampling probability 2^(-H(.)n-offset)\n",
    "# runtime: amount of vectors that satisfy the above condition\n",
    "# Eclassic: expected runtime of running AbortedKeyGuess on that set of vectors\n",
    "# Equantum: expected runtime of running Montanaro's algorithm on the very set of vectors"
   ]
  },
  {
   "cell_type": "code",
   "execution_count": null,
   "metadata": {},
   "outputs": [],
   "source": [
    "# By default, we set offset to 0. If another calue for offset is required, offset can optionally be altered:\n",
    "\n",
    "B2.raw_data(1,3, offset=3)\n",
    "print()\n",
    "Falcon512.raw_data(4,6, offset=3)\n",
    "print()"
   ]
  },
  {
   "cell_type": "code",
   "execution_count": null,
   "metadata": {},
   "outputs": [],
   "source": [
    "# If not every element from that range is required, the step size can be increased with the optional step command:\n",
    "\n",
    "B2.raw_data(1,5, step=2)\n",
    "print()\n",
    "Falcon512.raw_data(4,8, step=2)"
   ]
  },
  {
   "cell_type": "code",
   "execution_count": null,
   "metadata": {},
   "outputs": [],
   "source": [
    "# Since we do not need the complete compact dictionary except when we compare the expected runtimes of KeyGuess\n",
    "# and AbortedKeyGuess, we omit the expected runtime of KeyGuess unless specifically asked for. This can be done\n",
    "# with the optional command aborts = False:\n",
    "\n",
    "B2.raw_data(1,3, aborts = False) # This object does not exist for func_distribution objects\n",
    "print()\n",
    "\n",
    "# The last function call has an additional column that contains the expected runtime of KeyGuess with column head\n",
    "# Enoabort: Expected runtime of KeyGuess w/o aborts"
   ]
  },
  {
   "cell_type": "code",
   "execution_count": null,
   "metadata": {},
   "outputs": [],
   "source": [
    "# If the compact dictionaries are no longer required after the csv table is computed, the optional command\n",
    "# delete_after can be set to true to immediately delete the compact dictionaries:\n",
    "\n",
    "print(list(B2.comp_dics))\n",
    "B2.raw_data(1,3, delete_after = True)\n",
    "print(list(B2.comp_dics))\n",
    "print()\n",
    "\n",
    "\n",
    "print(list(Falcon512.comp_dics))\n",
    "Falcon512.raw_data(4,6, delete_after = True)\n",
    "print(list(Falcon512.comp_dics))\n",
    "\n",
    "# Note how the last call of B2.comp_dics does not contain the keys n = 1, 2, 3."
   ]
  },
  {
   "cell_type": "code",
   "execution_count": null,
   "metadata": {},
   "outputs": [],
   "source": [
    "# Note that the previous method returns the analysis for KeyGuess for ALL vectors represented in the  partial compact\n",
    "# dictionary. In general, we do not assume that the partial compact dictionary represents exactly 2^(H(chi)*n) many\n",
    "# vectors. To get the results for exactly 2^(H(chi)*n) many vectors, you have to run raw_data_veccount instead:\n",
    "\n",
    "B2.raw_data_veccount(1,3)\n",
    "print()\n",
    "Falcon512.raw_data_veccount(4,6)"
   ]
  },
  {
   "cell_type": "code",
   "execution_count": null,
   "metadata": {},
   "outputs": [],
   "source": [
    "# To get the results for sampling 2^(H(chi)*n+border_offset) many vectors instead, call\n",
    "# dist.raw_data_veccount(low, high, border_offset=border_offset instead:)\n",
    "\n",
    "B2.raw_data_veccount(1,3, border_offset=-1)\n",
    "print()\n",
    "Falcon512.raw_data_veccount(4,6, border_offset=1)"
   ]
  },
  {
   "cell_type": "code",
   "execution_count": 16,
   "metadata": {},
   "outputs": [
    {
     "name": "stdout",
     "output_type": "stream",
     "text": [
      "The 16,050,000-th most likely key of B(3)^10 is [-1, -1, -1, 0, 2, 1, 3, 2, -1, -1]\n",
      "\n",
      "\n",
      "The 100,000 to 100,010-th most likely keys of B(3)^10 are\n",
      "\n",
      "[[99999, [0, 0, -1, 0, -1, 2, 1, 1, 0, 0]], [100000, [0, 0, -1, 0, -2, 0, 0, 1, 1, 1]], [100001, [0, 0, -1, 0, -2, 0, 1, 0, 1, 1]], [100002, [0, 0, -1, 0, -2, 0, 1, 1, 0, 1]], [100003, [0, 0, -1, 0, -2, 0, 1, 1, 1, 0]], [100004, [0, 0, -1, 0, -2, 1, 0, 0, 1, 1]], [100005, [0, 0, -1, 0, -2, 1, 0, 1, 0, 1]], [100006, [0, 0, -1, 0, -2, 1, 0, 1, 1, 0]], [100007, [0, 0, -1, 0, -2, 1, 1, 0, 0, 1]], [100008, [0, 0, -1, 0, -2, 1, 1, 0, 1, 0]], [100009, [0, 0, -1, 0, -2, 1, 1, 1, 0, 0]]]\n"
     ]
    }
   ],
   "source": [
    "# The routine GetKey returns the i-th most likely vector (starting at 0, sorted lexicographically and by order of signs).\n",
    "# It requires the precomputation of the compact dictionary first\n",
    "\n",
    "print(\"The 16,050,000-th most likely key of B(3)^10 is \" + str(B3.GetKey(16049999,10)))\n",
    "print()\n",
    "print()\n",
    "\n",
    "# To get an ordered list of consecutive vectors , call GetKeys instead\n",
    "\n",
    "print(\"The 100,000 to 100,010-th most likely keys of B(3)^10 are\")\n",
    "print()\n",
    "print(B3.GetKeys(99999,100009,10))"
   ]
  },
  {
   "cell_type": "code",
   "execution_count": null,
   "metadata": {},
   "outputs": [],
   "source": []
  }
 ],
 "metadata": {
  "kernelspec": {
   "display_name": "SageMath 10.3",
   "language": "sage",
   "name": "sagemath"
  },
  "language_info": {
   "codemirror_mode": {
    "name": "ipython",
    "version": 3
   },
   "file_extension": ".py",
   "mimetype": "text/x-python",
   "name": "python",
   "nbconvert_exporter": "python",
   "pygments_lexer": "ipython3",
   "version": "3.10.12"
  }
 },
 "nbformat": 4,
 "nbformat_minor": 4
}
